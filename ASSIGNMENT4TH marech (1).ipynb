{
 "cells": [
  {
   "cell_type": "markdown",
   "id": "4da865e5-cd84-42a5-9a5c-5de7826fed55",
   "metadata": {},
   "source": [
    "# Q1.\n",
    "Load the \"titanic\" dataset using the load_dataset function of seaborn.\n",
    "Use Plotly express to plot a\n",
    "scatter plot for age and fare columns in the titanic dataset.\n",
    "# Answer "
   ]
  },
  {
   "cell_type": "code",
   "execution_count": null,
   "id": "55ec2ae2-967f-462f-9fb6-3007ec01f48c",
   "metadata": {},
   "outputs": [],
   "source": [
    "import seaborn as sns \n",
    "import plotly.graph_objects as go \n",
    "titanic = sns.load_dataset('titanic') \n",
    "fig = go.Figure()\n",
    "fig.add_trace(go.Scatter(x=titanic.age, y=titanic.fare, mode='markers'))\n",
    "fig.show() "
   ]
  },
  {
   "cell_type": "markdown",
   "id": "19135216-cbb2-448a-af64-dec57281bd72",
   "metadata": {},
   "source": [
    "# Q2\n",
    "Q2. Using the tips dataset in the Plotly library, plot a box plot using Plotly express.\n",
    "# Answer"
   ]
  },
  {
   "cell_type": "code",
   "execution_count": null,
   "id": "14258297-c5e4-42f0-af63-3f7363b5f6ed",
   "metadata": {},
   "outputs": [],
   "source": [
    "import plotly.express as px\n",
    "tips = px.data.tips()\n",
    "fig = px.box(tips, x=\"day\", y=\"total_bill\", color=\"smoker\", title=\"Tips - Total Bill by Day and Smoker\")\n",
    "fig.show()"
   ]
  },
  {
   "cell_type": "markdown",
   "id": "d357abac-339e-4fa1-b420-8c162f3d1da0",
   "metadata": {},
   "source": [
    "# q3\n",
    "Q3. Using the tips dataset in the Plotly library, Plot a histogram for x= \"sex\" and y=\"total_bill\" column in\n",
    "the tips dataset. Also, use the \"smoker\" column with the pattern_shape parameter and the \"day\"\n",
    "column with the color parameter.\n",
    " # answer"
   ]
  },
  {
   "cell_type": "code",
   "execution_count": null,
   "id": "117b48e7-3c7b-4fea-97e6-da4c9ea6833e",
   "metadata": {},
   "outputs": [],
   "source": [
    "import plotly.express as px\n",
    "tips = px.data.tips()\n",
    "fig = px.histogram(tips, x=\"sex\", y=\"total_bill\", color=\"day\", \n",
    "                   pattern_shape=\"smoker\", title=\"Tips - Total Bill by Gender and Smoker\")\n",
    "fig.show()"
   ]
  },
  {
   "cell_type": "markdown",
   "id": "bfbf9d36-e59d-473d-8d5a-7a40a1655b2c",
   "metadata": {},
   "source": [
    "# q4\n",
    "Q4. Using the iris dataset in the Plotly library, Plot a scatter matrix plot, using the \"species\" column for\n",
    "the color parameter.\n",
    "# answer"
   ]
  },
  {
   "cell_type": "code",
   "execution_count": null,
   "id": "97df2815-7d86-4f1b-8b50-793ba36f1ece",
   "metadata": {},
   "outputs": [],
   "source": [
    "import plotly.express as px\n",
    "from sklearn.datasets import load_iris\n",
    "iris = load_iris()\n",
    "df = px.data.iris()\n",
    "fig = px.scatter_matrix(df,\n",
    "                        dimensions=[\"sepal_length\", \"sepal_width\", \"petal_length\", \"petal_width\"],\n",
    "                        color=\"species\")\n",
    "fig.show()\n"
   ]
  },
  {
   "cell_type": "markdown",
   "id": "92a3d5d9-2238-42cb-97c5-0bd335b6593c",
   "metadata": {},
   "source": [
    " # Q5.\n",
    "What is Distplot? Using Plotly express, plot a distplot.\n",
    "# Answer"
   ]
  },
  {
   "cell_type": "code",
   "execution_count": null,
   "id": "ecf0ac4a-4023-41ea-98ac-6a18c7d4a29a",
   "metadata": {},
   "outputs": [],
   "source": [
    "import plotly.express as px\n",
    "import numpy as np\n",
    "np.random.seed(1)\n",
    "data = np.random.normal(loc=0, scale=1, size=1000)\n",
    "fig = px.histogram(data, x=data, nbins=30, histnorm=\"probability density\")\n",
    "fig.update_traces(opacity=0.5)\n",
    "fig.add_traces(px.density_contour(data, x=data).data)\n",
    "fig.show()"
   ]
  },
  {
   "cell_type": "markdown",
   "id": "ede17fad-72fc-4921-8008-75e7842447f1",
   "metadata": {},
   "source": [
    "# Complete"
   ]
  },
  {
   "cell_type": "code",
   "execution_count": null,
   "id": "9fc21590-140a-4c08-a17c-d355b89258ff",
   "metadata": {},
   "outputs": [],
   "source": []
  },
  {
   "cell_type": "code",
   "execution_count": null,
   "id": "7253396c-e817-41ec-a440-a4781d3af36e",
   "metadata": {},
   "outputs": [],
   "source": []
  },
  {
   "cell_type": "code",
   "execution_count": null,
   "id": "ab2544b8-e4c5-44c1-a6ad-add95a0b8150",
   "metadata": {},
   "outputs": [],
   "source": []
  },
  {
   "cell_type": "code",
   "execution_count": null,
   "id": "cb446790-e452-4d07-823f-f59bf9666531",
   "metadata": {},
   "outputs": [],
   "source": []
  }
 ],
 "metadata": {
  "kernelspec": {
   "display_name": "Python 3 (ipykernel)",
   "language": "python",
   "name": "python3"
  },
  "language_info": {
   "codemirror_mode": {
    "name": "ipython",
    "version": 3
   },
   "file_extension": ".py",
   "mimetype": "text/x-python",
   "name": "python",
   "nbconvert_exporter": "python",
   "pygments_lexer": "ipython3",
   "version": "3.10.8"
  }
 },
 "nbformat": 4,
 "nbformat_minor": 5
}
